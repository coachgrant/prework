{
 "cells": [
  {
   "cell_type": "markdown",
   "metadata": {},
   "source": [
    "# Parking Garage Project\n",
    "\n",
    "Your assignment for today is to create a parking garage class to get more familiar with Object Oriented Programming(OOP). \n",
    "\n",
    "Your parking gargage class should have the following methods:\n",
    "- takeTicket\n",
    "   - This should decrease the amount of tickets available by 1\n",
    "   - This should decrease the amount of parkingSpaces available by 1\n",
    "- payForParking\n",
    "   - Display an input that waits for an amount from the user and store it in a variable\n",
    "   - If the payment variable is not empty then ->  display a message to the user that their ticket has been paid and they have 15mins to leave\n",
    "   - This should update the \"currentTicket\" dictionary key \"paid\" to True\n",
    "-leaveGarage\n",
    "   - If the ticket has been paid, display a message of \"Thank You, have a nice day\"\n",
    "   - If the ticket has not been paid, display an input prompt for payment\n",
    "      - Once paid, display message \"Thank you, have a nice day!\"\n",
    "   - Update parkingSpaces list to increase by 1\n",
    "   - Update tickets list to increase by 1\n",
    "\n",
    "You will need a few attributes as well:\n",
    "- tickets -> list\n",
    "- parkingSpaces -> list\n",
    "- currentTicket -> dictionary"
   ]
  },
  {
   "cell_type": "code",
   "execution_count": 1,
   "metadata": {},
   "outputs": [
    {
     "name": "stdout",
     "output_type": "stream",
     "text": [
      "Ticket issued: 1. Parking space assigned: 1.\n",
      "Your ticket has been paid. You have 15 minutes to leave.\n",
      "Thank you, have a nice day!\n"
     ]
    }
   ],
   "source": [
    "class ParkingGarage:\n",
    "    def __init__(self, total_tickets, total_spaces):\n",
    "        self.tickets = list(range(1, total_tickets + 1))\n",
    "        self.parkingSpaces = list(range(1, total_spaces + 1))\n",
    "        self.currentTicket = {}\n",
    "\n",
    "    def takeTicket(self):\n",
    "        if self.tickets and self.parkingSpaces:\n",
    "            ticket = self.tickets.pop(0)  # Issue the first available ticket\n",
    "            space = self.parkingSpaces.pop(0)  # Assign the first available parking space\n",
    "            self.currentTicket[ticket] = {'space': space, 'paid': False}\n",
    "            print(f\"Ticket issued: {ticket}. Parking space assigned: {space}.\")\n",
    "        else:\n",
    "            print(\"No tickets or parking spaces available.\")\n",
    "\n",
    "    def payForParking(self, ticket_number):\n",
    "        if ticket_number in self.currentTicket:\n",
    "            self.currentTicket[ticket_number]['paid'] = True\n",
    "            print(\"Ticket has been paid. You have 15 minutes to leave.\")\n",
    "        else:\n",
    "            print(\"Invalid ticket number. Please try again.\")\n",
    "\n",
    "    def leaveGarage(self, ticket_number):\n",
    "        if ticket_number in self.currentTicket:\n",
    "            if self.currentTicket[ticket_number]['paid']:\n",
    "                print(\"Thank you, have a nice day!\")\n",
    "                self.parkingSpaces.append(self.currentTicket[ticket_number]['space'])  # Free the parking space\n",
    "                self.tickets.append(ticket_number)  # Make the ticket available again\n",
    "                del self.currentTicket[ticket_number]  # Remove the ticket from currentTicket\n",
    "            else:\n",
    "                print(\"Your ticket has not been paid.\")\n",
    "                self.payForParking(ticket_number)\n",
    "                print(\"Thank you, have a nice day!\")\n",
    "                self.parkingSpaces.append(self.currentTicket[ticket_number]['space'])\n",
    "                self.tickets.append(ticket_number)\n",
    "                del self.currentTicket[ticket_number]\n",
    "        else:\n",
    "            print(\"Invalid ticket number try again.\")\n",
    "\n",
    "# Example usage:\n",
    "garage = ParkingGarage(total_tickets=5, total_spaces=5)\n",
    "\n",
    "# Simulate the operations\n",
    "garage.takeTicket()   # Take a ticket and assign a parking space\n",
    "garage.payForParking(1)  # Pay for the ticket with number 1\n",
    "garage.leaveGarage(1)  # Leave the garage after payment\n"
   ]
  },
  {
   "cell_type": "code",
   "execution_count": null,
   "metadata": {},
   "outputs": [],
   "source": []
  }
 ],
 "metadata": {
  "kernelspec": {
   "display_name": "Python 3 (ipykernel)",
   "language": "python",
   "name": "python3"
  },
  "language_info": {
   "codemirror_mode": {
    "name": "ipython",
    "version": 3
   },
   "file_extension": ".py",
   "mimetype": "text/x-python",
   "name": "python",
   "nbconvert_exporter": "python",
   "pygments_lexer": "ipython3",
   "version": "3.10.12"
  }
 },
 "nbformat": 4,
 "nbformat_minor": 4
}
